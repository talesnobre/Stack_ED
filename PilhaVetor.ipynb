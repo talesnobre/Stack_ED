{
 "cells": [
  {
   "cell_type": "markdown",
   "metadata": {},
   "source": [
    "# Implementando uma Pilha sobre um Vetor"
   ]
  },
  {
   "cell_type": "code",
   "execution_count": 1,
   "metadata": {},
   "outputs": [],
   "source": [
    "class PilhaVetor:\n",
    "    def __init__(self):\n",
    "        self.pilha = []\n",
    "\n",
    "    def inserir(self, valor):\n",
    "        self.pilha.append(valor)\n",
    "\n",
    "    def remover(self):\n",
    "        if not self.vazia():\n",
    "            self.pilha.pop()\n",
    "            \n",
    "    def imprimir(self):\n",
    "        if not self.vazia():\n",
    "            for i in range(len(self.pilha) - 1, -1, -1):\n",
    "                print(self.pilha[i])\n",
    "        else:\n",
    "            print(\"A pilha está vazia!\")\n",
    "\n",
    "    def topo(self):\n",
    "        if not self.vazia():\n",
    "            return self.pilha[-1]\n",
    "        else:\n",
    "            print(\"A pilha está vazia!\")\n",
    "            return None\n",
    "\n",
    "    def vazia(self):\n",
    "        return len(self.pilha) == 0\n",
    "\n",
    "    def tamanho(self):\n",
    "        return len(self.pilha)"
   ]
  },
  {
   "cell_type": "markdown",
   "metadata": {},
   "source": [
    "## Casos de Teste da Pilha Vetor"
   ]
  },
  {
   "cell_type": "markdown",
   "metadata": {},
   "source": [
    "### Inserindo elementos no topo da Pilha"
   ]
  },
  {
   "cell_type": "code",
   "execution_count": 2,
   "metadata": {},
   "outputs": [
    {
     "name": "stdout",
     "output_type": "stream",
     "text": [
      "Elementos da Pilha:\n",
      "72\n",
      "64\n",
      "49\n",
      "36\n",
      "25\n",
      "16\n",
      "9\n",
      "4\n",
      "1\n"
     ]
    }
   ],
   "source": [
    "pilha_vetor = PilhaVetor()\n",
    "pilha_vetor.inserir(1)\n",
    "pilha_vetor.inserir(4)\n",
    "pilha_vetor.inserir(9)\n",
    "pilha_vetor.inserir(16)\n",
    "pilha_vetor.inserir(25)\n",
    "pilha_vetor.inserir(36)\n",
    "pilha_vetor.inserir(49)\n",
    "pilha_vetor.inserir(64)\n",
    "pilha_vetor.inserir(72)\n",
    "\n",
    "print(\"Elementos da Pilha:\")\n",
    "pilha_vetor.imprimir()"
   ]
  },
  {
   "cell_type": "markdown",
   "metadata": {},
   "source": [
    "### Removendo o elemento do topo de uma Pilha"
   ]
  },
  {
   "cell_type": "code",
   "execution_count": 3,
   "metadata": {},
   "outputs": [
    {
     "name": "stdout",
     "output_type": "stream",
     "text": [
      "Elemento no topo da pilha removido:  72\n",
      "\n",
      "\n",
      "Elementos da Pilha após a remoção do topo:\n",
      "64\n",
      "49\n",
      "36\n",
      "25\n",
      "16\n",
      "9\n",
      "4\n",
      "1\n"
     ]
    }
   ],
   "source": [
    "print(\"Elemento no topo da pilha removido: \", pilha_vetor.topo())\n",
    "pilha_vetor.remover()\n",
    "print(\"\\n\")\n",
    "print(\"Elementos da Pilha após a remoção do topo:\")\n",
    "pilha_vetor.imprimir()"
   ]
  },
  {
   "cell_type": "markdown",
   "metadata": {},
   "source": [
    "### Ler o topo atual da Pilha"
   ]
  },
  {
   "cell_type": "code",
   "execution_count": 4,
   "metadata": {},
   "outputs": [
    {
     "name": "stdout",
     "output_type": "stream",
     "text": [
      "Topo da Pilha: 64\n"
     ]
    }
   ],
   "source": [
    "print(\"Topo da Pilha:\", pilha_vetor.topo())"
   ]
  },
  {
   "cell_type": "markdown",
   "metadata": {},
   "source": [
    "### Conferindo se a Pilha está vazia"
   ]
  },
  {
   "cell_type": "code",
   "execution_count": 5,
   "metadata": {},
   "outputs": [
    {
     "name": "stdout",
     "output_type": "stream",
     "text": [
      "A pilha NÃO está vazia!\n"
     ]
    }
   ],
   "source": [
    "if pilha_vetor.vazia():\n",
    "    print(\"A pilha ESTÁ vazia!\")\n",
    "else:\n",
    "    print(\"A pilha NÃO está vazia!\")"
   ]
  },
  {
   "cell_type": "markdown",
   "metadata": {},
   "source": [
    "### Mostrando o tamanho da Pilha"
   ]
  },
  {
   "cell_type": "code",
   "execution_count": 6,
   "metadata": {},
   "outputs": [
    {
     "name": "stdout",
     "output_type": "stream",
     "text": [
      "Tamanho da Pilha: 8\n"
     ]
    }
   ],
   "source": [
    "print(\"Tamanho da Pilha:\", pilha_vetor.tamanho())"
   ]
  }
 ],
 "metadata": {
  "kernelspec": {
   "display_name": "Python 3 (ipykernel)",
   "language": "python",
   "name": "python3"
  },
  "language_info": {
   "codemirror_mode": {
    "name": "ipython",
    "version": 3
   },
   "file_extension": ".py",
   "mimetype": "text/x-python",
   "name": "python",
   "nbconvert_exporter": "python",
   "pygments_lexer": "ipython3",
   "version": "3.9.13"
  }
 },
 "nbformat": 4,
 "nbformat_minor": 2
}
