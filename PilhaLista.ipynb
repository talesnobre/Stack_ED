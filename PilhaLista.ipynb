{
 "cells": [
  {
   "cell_type": "markdown",
   "metadata": {},
   "source": [
    "# Implementando uma Pilha sobre uma Lista Encadeada"
   ]
  },
  {
   "cell_type": "code",
   "execution_count": 1,
   "metadata": {},
   "outputs": [],
   "source": [
    "class Node:\n",
    "    def __init__(self, valor):\n",
    "        self.valor = valor\n",
    "        self.proximo = None\n",
    "\n",
    "class PilhaLista:\n",
    "    def __init__(self):\n",
    "        self.topo = None\n",
    "\n",
    "    def inserir(self, valor):\n",
    "        novo_node = Node(valor)\n",
    "        if self.topo is None:\n",
    "            self.topo = novo_node\n",
    "        else:\n",
    "            novo_node.proximo = self.topo\n",
    "            self.topo = novo_node\n",
    "\n",
    "    def remover(self):\n",
    "        if not self.vazia():\n",
    "            self.topo = self.topo.proximo\n",
    "\n",
    "    def ler_topo(self):\n",
    "        if not self.vazia():\n",
    "            return self.topo.valor\n",
    "        else:\n",
    "            print(\"A pilha está vazia!\")\n",
    "            return None\n",
    "\n",
    "    def vazia(self):\n",
    "        return self.topo is None\n",
    "\n",
    "    def tamanho(self):\n",
    "        tamanho = 0\n",
    "        node = self.topo\n",
    "        while node is not None:\n",
    "            tamanho += 1\n",
    "            node = node.proximo\n",
    "        return tamanho\n"
   ]
  },
  {
   "cell_type": "markdown",
   "metadata": {},
   "source": [
    "## Casos de Teste da Pilha LL (Linked List)"
   ]
  },
  {
   "cell_type": "markdown",
   "metadata": {},
   "source": [
    "### Inserindo elementos no topo da Pilha"
   ]
  },
  {
   "cell_type": "code",
   "execution_count": 2,
   "metadata": {},
   "outputs": [
    {
     "name": "stdout",
     "output_type": "stream",
     "text": [
      "Elementos da Pilha:\n",
      "72\n",
      "64\n",
      "49\n",
      "36\n",
      "25\n",
      "16\n",
      "9\n",
      "4\n",
      "1\n"
     ]
    }
   ],
   "source": [
    "pilha = PilhaLista()\n",
    "\n",
    "pilha.inserir(1)\n",
    "pilha.inserir(4)\n",
    "pilha.inserir(9)\n",
    "pilha.inserir(16)\n",
    "pilha.inserir(25)\n",
    "pilha.inserir(36)\n",
    "pilha.inserir(49)\n",
    "pilha.inserir(64)\n",
    "pilha.inserir(72)\n",
    "\n",
    "print(\"Elementos da Pilha:\")\n",
    "node = pilha.topo\n",
    "while node is not None:\n",
    "    print(node.valor)\n",
    "    node = node.proximo"
   ]
  },
  {
   "cell_type": "markdown",
   "metadata": {},
   "source": [
    "### Removendo o elemento do topo de uma Pilha"
   ]
  },
  {
   "cell_type": "code",
   "execution_count": 3,
   "metadata": {},
   "outputs": [
    {
     "name": "stdout",
     "output_type": "stream",
     "text": [
      "Elemento no topo da pilha removido:  72\n",
      "\n",
      "\n",
      "Elementos da Pilha após a remoção do topo:\n",
      "64\n",
      "49\n",
      "36\n",
      "25\n",
      "16\n",
      "9\n",
      "4\n",
      "1\n"
     ]
    }
   ],
   "source": [
    "print(\"Elemento no topo da pilha removido: \",  pilha.ler_topo())\n",
    "pilha.remover()\n",
    "print(\"\\n\")\n",
    "print(\"Elementos da Pilha após a remoção do topo:\")\n",
    "node = pilha.topo\n",
    "while node is not None:\n",
    "    print(node.valor)\n",
    "    node = node.proximo"
   ]
  },
  {
   "cell_type": "markdown",
   "metadata": {},
   "source": [
    "### Ler o topo atual da Pilha"
   ]
  },
  {
   "cell_type": "code",
   "execution_count": 4,
   "metadata": {},
   "outputs": [
    {
     "name": "stdout",
     "output_type": "stream",
     "text": [
      "Topo da Pilha: 64\n"
     ]
    }
   ],
   "source": [
    "print(\"Topo da Pilha:\", pilha.ler_topo())"
   ]
  },
  {
   "cell_type": "markdown",
   "metadata": {},
   "source": [
    "### Conferindo se a Pilha está vazia"
   ]
  },
  {
   "cell_type": "code",
   "execution_count": 5,
   "metadata": {},
   "outputs": [
    {
     "name": "stdout",
     "output_type": "stream",
     "text": [
      "A pilha NÃO está vazia\n"
     ]
    }
   ],
   "source": [
    "if pilha.vazia():\n",
    "    print(\"A pilha ESTÁ vazia\")\n",
    "else:\n",
    "    print(\"A pilha NÃO está vazia\")"
   ]
  },
  {
   "cell_type": "markdown",
   "metadata": {},
   "source": [
    "### Mostrando o tamanho da Pilha"
   ]
  },
  {
   "cell_type": "code",
   "execution_count": 6,
   "metadata": {},
   "outputs": [
    {
     "name": "stdout",
     "output_type": "stream",
     "text": [
      "Tamanho da Pilha: 8\n"
     ]
    }
   ],
   "source": [
    "print(\"Tamanho da Pilha:\", pilha.tamanho())"
   ]
  }
 ],
 "metadata": {
  "kernelspec": {
   "display_name": "Python 3 (ipykernel)",
   "language": "python",
   "name": "python3"
  },
  "language_info": {
   "codemirror_mode": {
    "name": "ipython",
    "version": 3
   },
   "file_extension": ".py",
   "mimetype": "text/x-python",
   "name": "python",
   "nbconvert_exporter": "python",
   "pygments_lexer": "ipython3",
   "version": "3.9.13"
  }
 },
 "nbformat": 4,
 "nbformat_minor": 2
}
